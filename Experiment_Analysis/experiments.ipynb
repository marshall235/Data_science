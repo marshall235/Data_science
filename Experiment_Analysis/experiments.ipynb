{
 "cells": [
  {
   "cell_type": "code",
   "execution_count": 1,
   "id": "22cb4d91-f386-4edd-90f9-21918d198e04",
   "metadata": {},
   "outputs": [],
   "source": [
    "import pandas as pd"
   ]
  },
  {
   "cell_type": "code",
   "execution_count": 3,
   "id": "7f9c6e8c-ff5c-4520-a996-14375b11948d",
   "metadata": {},
   "outputs": [],
   "source": [
    "df_baseline_1 = pd.read_excel(\"Experiment  1 Baseline.xlsx\") "
   ]
  },
  {
   "cell_type": "code",
   "execution_count": 4,
   "id": "5448914c-9a8d-4bc4-8dd3-73e78a361af3",
   "metadata": {},
   "outputs": [],
   "source": [
    "df_highlevel_1 = pd.read_excel(\"Experiment 1 Highlevel.xlsx\")"
   ]
  },
  {
   "cell_type": "code",
   "execution_count": 5,
   "id": "f0b473ff-daa3-4f43-b7f1-e2c06b386bfc",
   "metadata": {},
   "outputs": [],
   "source": [
    "data_baseline_2= pd.read_excel(\"Experiment 2 Baseline.xlsx\")"
   ]
  },
  {
   "cell_type": "code",
   "execution_count": 7,
   "id": "841d90d3-6d5c-46ee-82c4-3c16b57536dc",
   "metadata": {},
   "outputs": [],
   "source": [
    "data_highlevel_2 = pd.read_excel(\"Experiment 2 Highlevel.xlsx\")"
   ]
  },
  {
   "cell_type": "code",
   "execution_count": 8,
   "id": "84709fdc-4b8e-4f45-a7a4-6bf6d0883f9e",
   "metadata": {},
   "outputs": [],
   "source": [
    "%config IPCompleter.greedy=True"
   ]
  },
  {
   "cell_type": "code",
   "execution_count": 9,
   "id": "66c5a421-f87c-4afe-94e0-f2bc2cd2bf61",
   "metadata": {},
   "outputs": [
    {
     "name": "stdout",
     "output_type": "stream",
     "text": [
      "Index(['Timestamp', 'Assigned Animal', 'Do you have experience with ChatGPT?',\n",
      "       'The player was supportive for my playing.',\n",
      "       'I got new ideas from the player. ', 'The scene progressed. ',\n",
      "       'The player knows how to improvise.',\n",
      "       'I enjoyed improvising with the player.', 'X', 'X.1',\n",
      "       'The character showed incomprehensible feelings.',\n",
      "       'The character's emotions appeared understandable.',\n",
      "       'I understood who the character was.',\n",
      "       'The character had obvious intentions.',\n",
      "       'The character's actions made sense within the storyline.',\n",
      "       'The character's actions were consistent with their role.'],\n",
      "      dtype='object')\n"
     ]
    }
   ],
   "source": [
    "#column names \n",
    "print(df_baseline_1.columns)"
   ]
  },
  {
   "cell_type": "code",
   "execution_count": 10,
   "id": "d0107a77-24c9-4f91-b042-f0f45ad59fcb",
   "metadata": {},
   "outputs": [],
   "source": [
    "#Selecting columns needed for the analysis\n",
    "baseline_1_co_creativity = df_baseline_1[[\"The player was supportive for my playing.\",'I got new ideas from the player. ', 'The scene progressed. ', \"The player knows how to improvise.\", \"I enjoyed improvising with the player.\"]]"
   ]
  },
  {
   "cell_type": "code",
   "execution_count": 11,
   "id": "990366bf-740e-4c70-b718-64de1c896d39",
   "metadata": {},
   "outputs": [],
   "source": [
    "highlevel_1_co_creativity = df_highlevel_1[[\"The player was supportive for my playing.\",'I got new ideas from the player. ', 'The scene progressed. ', \"The player knows how to improvise.\", \"I enjoyed improvising with the player.\"]]"
   ]
  },
  {
   "cell_type": "code",
   "execution_count": 12,
   "id": "5c884ce7-d28b-40bc-8710-dd08dc5c14fb",
   "metadata": {},
   "outputs": [],
   "source": [
    "import scipy.stats as stats"
   ]
  },
  {
   "cell_type": "code",
   "execution_count": 13,
   "id": "adb131b2-f1b8-4333-b153-5e1769b34717",
   "metadata": {},
   "outputs": [],
   "source": [
    "#conducting manwhitney test for co-creativity in baseline and highlevel\n",
    "statistics1_co_creativity, pvalue_co_creativity = stats.mannwhitneyu(baseline_1_co_creativity,highlevel_1_co_creativity)"
   ]
  },
  {
   "cell_type": "code",
   "execution_count": 14,
   "id": "2ddd81c5-d453-43df-b083-ac1541b76a84",
   "metadata": {},
   "outputs": [
    {
     "name": "stdout",
     "output_type": "stream",
     "text": [
      "[234.  253.  265.5 282.5 236. ]\n"
     ]
    }
   ],
   "source": [
    "print(statistics1_co_creativity)"
   ]
  },
  {
   "cell_type": "code",
   "execution_count": 15,
   "id": "23cb1b91-8dd1-4bd6-8374-c560cd8af4ab",
   "metadata": {},
   "outputs": [
    {
     "name": "stdout",
     "output_type": "stream",
     "text": [
      "[0.49553448 0.80424233 0.99086087 0.6918489  0.52583007]\n"
     ]
    }
   ],
   "source": [
    "print(pvalue_co_creativity)"
   ]
  },
  {
   "cell_type": "code",
   "execution_count": 16,
   "id": "2c79d9d8-b841-464e-9626-3d4f1ee00d3f",
   "metadata": {},
   "outputs": [],
   "source": [
    "# Selecting columns for believability\n",
    "baseline_1_Believability = df_baseline_1[[\"The character showed incomprehensible feelings.\", \"The character's emotions appeared understandable.\", 'I understood who the character was.',  'The character had obvious intentions.', \"The character's actions made sense within the storyline.\", \"The character's actions were consistent with their role.\"]]\n",
    "highlevel_1_Belivability = df_highlevel_1[[\"The character showed incomprehensible feelings.\", \"The character's emotions appeared understandable.\", 'I understood who the character was.',  'The character had obvious intentions.', \"The character's actions made sense within the storyline.\", \"The character's actions were consistent with their role.\"]]"
   ]
  },
  {
   "cell_type": "code",
   "execution_count": 17,
   "id": "0ec3a85c-cdab-4aec-95c4-d3903fe3d365",
   "metadata": {},
   "outputs": [],
   "source": [
    "#manwhitney test for believability between baseline and highlevel\n",
    "statistics1_believability, pvalue1_believability = stats.mannwhitneyu(baseline_1_Believability,highlevel_1_Belivability)"
   ]
  },
  {
   "cell_type": "code",
   "execution_count": 19,
   "id": "7f663060-cd29-41b4-97a3-6ab03725c472",
   "metadata": {},
   "outputs": [
    {
     "name": "stdout",
     "output_type": "stream",
     "text": [
      "[289.5 193.  171.  170.  244.5 182. ]\n"
     ]
    }
   ],
   "source": [
    "print(statistics1_believability)"
   ]
  },
  {
   "cell_type": "code",
   "execution_count": 20,
   "id": "c23ffad5-4026-409e-bc34-14f8a8ab3a2c",
   "metadata": {},
   "outputs": [
    {
     "name": "stdout",
     "output_type": "stream",
     "text": [
      "[0.56079908 0.09953855 0.03302791 0.034273   0.65184999 0.05309727]\n"
     ]
    }
   ],
   "source": [
    "print(pvalue1_believability)"
   ]
  },
  {
   "cell_type": "code",
   "execution_count": 21,
   "id": "c4f12dc3-7167-4e5a-ac86-9a666b1adbda",
   "metadata": {},
   "outputs": [
    {
     "name": "stdout",
     "output_type": "stream",
     "text": [
      "Index(['Timestamp', 'Assigned Animal', 'I enjoyed reading the scene.',\n",
      "       'Both characters had a part in the development of the scene.',\n",
      "       'I was able to dive into the scene.',\n",
      "       'It is easy to describe in a short statement what happened in the scene.',\n",
      "       'The outcome of the scene was surprising. ',\n",
      "       'The character showed incomprehensible feelings.',\n",
      "       'The character's emotions appeared understandable.',\n",
      "       'I understood who the character was.',\n",
      "       'The  character had obvious intentions.',\n",
      "       'The orange character's actions made sense within the storyline.',\n",
      "       'The  character's actions were consistent with their role.',\n",
      "       'The orange character seemed concerned about safety.'],\n",
      "      dtype='object')\n"
     ]
    }
   ],
   "source": [
    "# column names for experiment 2\n",
    "print(data_baseline_2.columns)"
   ]
  },
  {
   "cell_type": "code",
   "execution_count": 23,
   "id": "d155d4ae-837b-4bc2-bf0b-c93fca8e6cdb",
   "metadata": {},
   "outputs": [],
   "source": [
    "#Selecting columns for artefact quality analysis\n",
    "baseline_2_Artefact_Quality = data_baseline_2[['I enjoyed reading the scene.', 'Both characters had a part in the development of the scene.', 'I was able to dive into the scene.', 'It is easy to describe in a short statement what happened in the scene.', 'The outcome of the scene was surprising. ']]\n",
    "Highlevel_2_Artefact_Quality = data_baseline_2[['I enjoyed reading the scene.', 'Both characters had a part in the development of the scene.', 'I was able to dive into the scene.', 'It is easy to describe in a short statement what happened in the scene.', 'The outcome of the scene was surprising. ']]"
   ]
  },
  {
   "cell_type": "code",
   "execution_count": 24,
   "id": "b32a3143-e45c-45a4-8e97-6832b3ab4883",
   "metadata": {},
   "outputs": [],
   "source": [
    "#manwhitney test for artefact\n",
    "statistics2_artefact, pvalue2_artefact = stats.mannwhitneyu(baseline_2_Artefact_Quality, Highlevel_2_Artefact_Quality)"
   ]
  },
  {
   "cell_type": "code",
   "execution_count": 25,
   "id": "66da5ede-b1a7-4897-b89d-476a7c065ccf",
   "metadata": {},
   "outputs": [
    {
     "name": "stdout",
     "output_type": "stream",
     "text": [
      "[264.5 264.5 264.5 264.5 264.5]\n"
     ]
    }
   ],
   "source": [
    "print(statistics2_artefact)"
   ]
  },
  {
   "cell_type": "code",
   "execution_count": 26,
   "id": "52ae2ca4-444b-4590-9047-4615f2b67ffb",
   "metadata": {},
   "outputs": [
    {
     "name": "stdout",
     "output_type": "stream",
     "text": [
      "[1. 1. 1. 1. 1.]\n"
     ]
    }
   ],
   "source": [
    "print(pvalue2_artefact)"
   ]
  },
  {
   "cell_type": "code",
   "execution_count": 29,
   "id": "49e6bc85-e2a1-4735-b393-446c17be0dd0",
   "metadata": {},
   "outputs": [],
   "source": [
    "# Selecting columns for belivability for experiment 2\n",
    "baseline_2_Belivability = data_baseline_2[['The character showed incomprehensible feelings.', \"The character's emotions appeared understandable.\", 'I understood who the character was.', 'The  character had obvious intentions.', \"The orange character's actions made sense within the storyline.\", \"The  character's actions were consistent with their role.\" ]]\n",
    "Highlevel_2_believability = data_highlevel_2[['The  character showed incomprehensible feelings.', \"The  character's emotions appeared understandable.\", 'I understood who the  character was.', 'The  character had obvious intentions.', \"The  character's actions made sense within the storyline.\", \"The  character's actions were consistent with their role.\"]]  "
   ]
  },
  {
   "cell_type": "code",
   "execution_count": 30,
   "id": "ea5bdfcc-5d4e-4abe-a707-5e8e0bb9e84f",
   "metadata": {},
   "outputs": [],
   "source": [
    "# manwhitney test for believability in experiment 2\n",
    "statistics2_believability, pvalue2_believability = stats.mannwhitneyu(baseline_2_Belivability,Highlevel_2_believability)"
   ]
  },
  {
   "cell_type": "code",
   "execution_count": 31,
   "id": "694bf123-788f-41fe-8a98-a4a56cedf0c5",
   "metadata": {},
   "outputs": [
    {
     "name": "stdout",
     "output_type": "stream",
     "text": [
      "[270.  260.5 208.  225.  320.5 287. ]\n"
     ]
    }
   ],
   "source": [
    "print(statistics2_believability)"
   ]
  },
  {
   "cell_type": "code",
   "execution_count": 32,
   "id": "8292bd6f-10db-4e03-9e4a-9aa9d0bcac85",
   "metadata": {},
   "outputs": [
    {
     "name": "stdout",
     "output_type": "stream",
     "text": [
      "[0.91018383 0.93622107 0.19448568 0.36482584 0.20116687 0.59598097]\n"
     ]
    }
   ],
   "source": [
    "print(pvalue2_believability)"
   ]
  },
  {
   "cell_type": "code",
   "execution_count": 33,
   "id": "52b83d35-d734-4049-b49f-648866749cbd",
   "metadata": {},
   "outputs": [],
   "source": [
    "# Wilcoxon signed rank test to compare the medians of the \"Believability\" construct between the two groups in Experiment 2\n",
    "from scipy.stats import wilcoxon"
   ]
  },
  {
   "cell_type": "code",
   "execution_count": 40,
   "id": "26f63db3-ebb3-4a41-9df1-a220f5f753c1",
   "metadata": {},
   "outputs": [],
   "source": [
    "statistics2_wilcoxon_artefact, pvalue2_wilcoxon_artefact = wilcoxon(baseline_2_Artefact_Quality, Highlevel_2_Artefact_Quality, zero_method=\"zsplit\")"
   ]
  },
  {
   "cell_type": "code",
   "execution_count": 41,
   "id": "5933e30a-dba6-4f10-adbc-49f4e85159ea",
   "metadata": {},
   "outputs": [
    {
     "name": "stdout",
     "output_type": "stream",
     "text": [
      "[138. 138. 138. 138. 138.]\n"
     ]
    }
   ],
   "source": [
    "print(statistics2_wilcoxon_artefact)"
   ]
  },
  {
   "cell_type": "code",
   "execution_count": 42,
   "id": "c1b829d9-f018-4615-846b-e4c25e13403d",
   "metadata": {},
   "outputs": [
    {
     "name": "stdout",
     "output_type": "stream",
     "text": [
      "[1. 1. 1. 1. 1.]\n"
     ]
    }
   ],
   "source": [
    "print(pvalue2_wilcoxon_artefact)"
   ]
  },
  {
   "cell_type": "code",
   "execution_count": 44,
   "id": "406da98b-afce-4cb8-9b8f-e62ccac4a7de",
   "metadata": {},
   "outputs": [],
   "source": [
    "statistics2_wilcoxon_believability, pvalue2_wilcoxon_believability = wilcoxon(baseline_2_Belivability, Highlevel_2_believability, zero_method=\"zsplit\")"
   ]
  },
  {
   "cell_type": "code",
   "execution_count": 45,
   "id": "43de15c6-c7ec-480b-b491-79e55616d0d7",
   "metadata": {},
   "outputs": [
    {
     "name": "stdout",
     "output_type": "stream",
     "text": [
      "[130.  126.  102.5 112.5  92.  127. ]\n"
     ]
    }
   ],
   "source": [
    "print(statistics2_wilcoxon_believability)"
   ]
  },
  {
   "cell_type": "code",
   "execution_count": 46,
   "id": "fcb08a56-75f6-4d49-94e2-e0978f3b731a",
   "metadata": {},
   "outputs": [
    {
     "name": "stdout",
     "output_type": "stream",
     "text": [
      "[0.80605734 0.71105594 0.27650926 0.42152822 0.15543136 0.73525652]\n"
     ]
    }
   ],
   "source": [
    "print(pvalue2_wilcoxon_believability)"
   ]
  },
  {
   "cell_type": "code",
   "execution_count": 47,
   "id": "5322a049-b2cc-44dd-ba38-aae47bf5a164",
   "metadata": {},
   "outputs": [],
   "source": [
    "### Spearmans correlation test"
   ]
  },
  {
   "cell_type": "code",
   "execution_count": 48,
   "id": "77a1fb3c-e927-419b-8f02-19af438038e6",
   "metadata": {},
   "outputs": [],
   "source": [
    "from scipy.stats import spearmanr"
   ]
  },
  {
   "cell_type": "code",
   "execution_count": 50,
   "id": "2dda9757-b0df-4cac-a561-34f31ad29800",
   "metadata": {},
   "outputs": [],
   "source": [
    "# selecting columns for spearman's correlation \n",
    "correlation_2 = data_baseline_2[['The orange character seemed concerned about safety.']]"
   ]
  },
  {
   "cell_type": "code",
   "execution_count": 52,
   "id": "18c9e3cb-4294-4f38-82c5-7f8f717df8bb",
   "metadata": {},
   "outputs": [],
   "source": [
    "correlation_belivability, pvalue_believability = spearmanr( correlation_2, baseline_2_Belivability)"
   ]
  },
  {
   "cell_type": "code",
   "execution_count": 53,
   "id": "37f61183-1ca4-4947-9ae9-8ed841df7f37",
   "metadata": {},
   "outputs": [
    {
     "name": "stdout",
     "output_type": "stream",
     "text": [
      "[[ 1.          0.18423157 -0.10349617  0.02382215  0.0793458  -0.11096117\n",
      "  -0.03475162]\n",
      " [ 0.18423157  1.         -0.80218454 -0.49361037 -0.24539662 -0.66394359\n",
      "  -0.65382454]\n",
      " [-0.10349617 -0.80218454  1.          0.72476039  0.37101327  0.74035\n",
      "   0.75860248]\n",
      " [ 0.02382215 -0.49361037  0.72476039  1.          0.21843329  0.56326804\n",
      "   0.68479519]\n",
      " [ 0.0793458  -0.24539662  0.37101327  0.21843329  1.          0.34891709\n",
      "   0.31054815]\n",
      " [-0.11096117 -0.66394359  0.74035     0.56326804  0.34891709  1.\n",
      "   0.53515764]\n",
      " [-0.03475162 -0.65382454  0.75860248  0.68479519  0.31054815  0.53515764\n",
      "   1.        ]]\n"
     ]
    }
   ],
   "source": [
    "print(correlation_belivability)"
   ]
  },
  {
   "cell_type": "code",
   "execution_count": 54,
   "id": "56a0677e-68a3-4b9b-b9e6-86dafcdecfd8",
   "metadata": {},
   "outputs": [
    {
     "name": "stdout",
     "output_type": "stream",
     "text": [
      "[[0.00000000e+000 4.00062552e-001 6.38400799e-001 9.14082347e-001\n",
      "  7.18939467e-001 6.14236012e-001 8.74917213e-001]\n",
      " [4.00062552e-001 7.46938006e-166 4.15021886e-006 1.66810863e-002\n",
      "  2.59060235e-001 5.51216437e-004 7.15120962e-004]\n",
      " [6.38400799e-001 4.15021886e-006 7.46938006e-166 9.16921629e-005\n",
      "  8.13479741e-002 5.36444037e-005 2.72627436e-005]\n",
      " [9.14082347e-001 1.66810863e-002 9.16921629e-005 0.00000000e+000\n",
      "  3.16677345e-001 5.13195031e-003 3.12380767e-004]\n",
      " [7.18939467e-001 2.59060235e-001 8.13479741e-002 3.16677345e-001\n",
      "  0.00000000e+000 1.02724728e-001 1.49239140e-001]\n",
      " [6.14236012e-001 5.51216437e-004 5.36444037e-005 5.13195031e-003\n",
      "  1.02724728e-001 7.46938006e-166 8.50477706e-003]\n",
      " [8.74917213e-001 7.15120962e-004 2.72627436e-005 3.12380767e-004\n",
      "  1.49239140e-001 8.50477706e-003 7.46938006e-166]]\n"
     ]
    }
   ],
   "source": [
    "print(pvalue_believability)"
   ]
  },
  {
   "cell_type": "code",
   "execution_count": 56,
   "id": "d11a1dee-9695-49a7-8883-75e5565f5870",
   "metadata": {},
   "outputs": [],
   "source": [
    "correlation_belivability, pvalue_believability = spearmanr( correlation_2, Highlevel_2_believability)"
   ]
  },
  {
   "cell_type": "code",
   "execution_count": 57,
   "id": "ba311f8f-b82a-42e1-8422-541e6c040e12",
   "metadata": {},
   "outputs": [
    {
     "name": "stdout",
     "output_type": "stream",
     "text": [
      "[[ 1.          0.20276621  0.04632328 -0.16860653 -0.15252377 -0.27261515\n",
      "  -0.19759311]\n",
      " [ 0.20276621  1.         -0.77458861 -0.35123506  0.24389293 -0.63927533\n",
      "  -0.6106919 ]\n",
      " [ 0.04632328 -0.77458861  1.          0.38974352 -0.04726075  0.45\n",
      "   0.62329004]\n",
      " [-0.16860653 -0.35123506  0.38974352  1.          0.54707341  0.33093607\n",
      "   0.39537852]\n",
      " [-0.15252377  0.24389293 -0.04726075  0.54707341  1.         -0.07784123\n",
      "   0.054269  ]\n",
      " [-0.27261515 -0.63927533  0.45        0.33093607 -0.07784123  1.\n",
      "   0.52161861]\n",
      " [-0.19759311 -0.6106919   0.62329004  0.39537852  0.054269    0.52161861\n",
      "   1.        ]]\n"
     ]
    }
   ],
   "source": [
    "print(correlation_belivability)"
   ]
  },
  {
   "cell_type": "code",
   "execution_count": 58,
   "id": "23559356-b5c8-438f-b296-357c388d3ec0",
   "metadata": {},
   "outputs": [
    {
     "name": "stdout",
     "output_type": "stream",
     "text": [
      "[[0.00000000e+000 3.53463156e-001 8.33759903e-001 4.41866043e-001\n",
      "  4.87200542e-001 2.08207916e-001 3.66136659e-001]\n",
      " [3.53463156e-001 0.00000000e+000 1.43388362e-005 1.00305986e-001\n",
      "  2.62083020e-001 1.02322639e-003 1.96746080e-003]\n",
      " [8.33759903e-001 1.43388362e-005 0.00000000e+000 6.60062487e-002\n",
      "  8.30442527e-001 3.11965813e-002 1.48636945e-003]\n",
      " [4.41866043e-001 1.00305986e-001 6.60062487e-002 7.46938006e-166\n",
      "  6.90139667e-003 1.22966344e-001 6.18537171e-002]\n",
      " [4.87200542e-001 2.62083020e-001 8.30442527e-001 6.90139667e-003\n",
      "  0.00000000e+000 7.24064901e-001 8.05735032e-001]\n",
      " [2.08207916e-001 1.02322639e-003 3.11965813e-002 1.22966344e-001\n",
      "  7.24064901e-001 0.00000000e+000 1.06886706e-002]\n",
      " [3.66136659e-001 1.96746080e-003 1.48636945e-003 6.18537171e-002\n",
      "  8.05735032e-001 1.06886706e-002 7.46938006e-166]]\n"
     ]
    }
   ],
   "source": [
    "print(pvalue_believability)"
   ]
  },
  {
   "cell_type": "code",
   "execution_count": 62,
   "id": "bad81c0a-63e0-414d-a262-a8d38f32bdf7",
   "metadata": {},
   "outputs": [],
   "source": [
    "correlation2_artefact, pvalue2_corr_artefact = spearmanr( correlation_2, baseline_2_Artefact_Quality)"
   ]
  },
  {
   "cell_type": "code",
   "execution_count": 63,
   "id": "6cec07cd-14e3-4141-9daa-bfebfdea8275",
   "metadata": {},
   "outputs": [
    {
     "name": "stdout",
     "output_type": "stream",
     "text": [
      "[[ 1.         -0.14455456  0.430815   -0.12445156  0.01039427  0.08806209]\n",
      " [-0.14455456  1.          0.08930928  0.70072393  0.20819871 -0.07786057]\n",
      " [ 0.430815    0.08930928  1.          0.34295078  0.05679862 -0.05640727]\n",
      " [-0.12445156  0.70072393  0.34295078  1.          0.09080559  0.00749472]\n",
      " [ 0.01039427  0.20819871  0.05679862  0.09080559  1.         -0.27788874]\n",
      " [ 0.08806209 -0.07786057 -0.05640727  0.00749472 -0.27788874  1.        ]]\n"
     ]
    }
   ],
   "source": [
    "print(correlation2_artefact)"
   ]
  },
  {
   "cell_type": "code",
   "execution_count": 64,
   "id": "f94769b1-8f23-4636-aa21-daf368488e9e",
   "metadata": {},
   "outputs": [
    {
     "name": "stdout",
     "output_type": "stream",
     "text": [
      "[[0.00000000e+000 5.10493942e-001 4.01445033e-002 5.71549005e-001\n",
      "  9.62457191e-001 6.89482953e-001]\n",
      " [5.10493942e-001 7.46938006e-166 6.85302389e-001 1.96176847e-004\n",
      "  3.40434786e-001 7.23998956e-001]\n",
      " [4.01445033e-002 6.85302389e-001 0.00000000e+000 1.09147709e-001\n",
      "  7.96859548e-001 7.98231103e-001]\n",
      " [5.71549005e-001 1.96176847e-004 1.09147709e-001 0.00000000e+000\n",
      "  6.80298535e-001 9.72925566e-001]\n",
      " [9.62457191e-001 3.40434786e-001 7.96859548e-001 6.80298535e-001\n",
      "  0.00000000e+000 1.99193639e-001]\n",
      " [6.89482953e-001 7.23998956e-001 7.98231103e-001 9.72925566e-001\n",
      "  1.99193639e-001 0.00000000e+000]]\n"
     ]
    }
   ],
   "source": [
    "print(pvalue2_corr_artefact)"
   ]
  },
  {
   "cell_type": "code",
   "execution_count": 65,
   "id": "432b9bea-4c62-441e-a4ab-7603b983c826",
   "metadata": {},
   "outputs": [],
   "source": [
    "correlation2_artefact, pvalue2_corr_artefact = spearmanr( correlation_2, Highlevel_2_Artefact_Quality)"
   ]
  },
  {
   "cell_type": "code",
   "execution_count": 66,
   "id": "1f7856a1-2130-4f50-819b-ea6dba47c474",
   "metadata": {},
   "outputs": [
    {
     "name": "stdout",
     "output_type": "stream",
     "text": [
      "[[ 1.         -0.14455456  0.430815   -0.12445156  0.01039427  0.08806209]\n",
      " [-0.14455456  1.          0.08930928  0.70072393  0.20819871 -0.07786057]\n",
      " [ 0.430815    0.08930928  1.          0.34295078  0.05679862 -0.05640727]\n",
      " [-0.12445156  0.70072393  0.34295078  1.          0.09080559  0.00749472]\n",
      " [ 0.01039427  0.20819871  0.05679862  0.09080559  1.         -0.27788874]\n",
      " [ 0.08806209 -0.07786057 -0.05640727  0.00749472 -0.27788874  1.        ]]\n"
     ]
    }
   ],
   "source": [
    "print(correlation2_artefact)"
   ]
  },
  {
   "cell_type": "code",
   "execution_count": 67,
   "id": "e7d99ebb-177a-4d69-b48d-2736e962e8e7",
   "metadata": {},
   "outputs": [
    {
     "name": "stdout",
     "output_type": "stream",
     "text": [
      "[[0.00000000e+000 5.10493942e-001 4.01445033e-002 5.71549005e-001\n",
      "  9.62457191e-001 6.89482953e-001]\n",
      " [5.10493942e-001 7.46938006e-166 6.85302389e-001 1.96176847e-004\n",
      "  3.40434786e-001 7.23998956e-001]\n",
      " [4.01445033e-002 6.85302389e-001 0.00000000e+000 1.09147709e-001\n",
      "  7.96859548e-001 7.98231103e-001]\n",
      " [5.71549005e-001 1.96176847e-004 1.09147709e-001 0.00000000e+000\n",
      "  6.80298535e-001 9.72925566e-001]\n",
      " [9.62457191e-001 3.40434786e-001 7.96859548e-001 6.80298535e-001\n",
      "  0.00000000e+000 1.99193639e-001]\n",
      " [6.89482953e-001 7.23998956e-001 7.98231103e-001 9.72925566e-001\n",
      "  1.99193639e-001 0.00000000e+000]]\n"
     ]
    }
   ],
   "source": [
    "print(pvalue2_corr_artefact)"
   ]
  },
  {
   "cell_type": "code",
   "execution_count": 73,
   "id": "7ca0dd76-f15c-4793-b891-13326dae7796",
   "metadata": {},
   "outputs": [],
   "source": [
    "corr_believability_artefact, pval_believability_artefact = spearmanr(baseline_2_Belivability, baseline_2_Artefact_Quality)"
   ]
  },
  {
   "cell_type": "code",
   "execution_count": 74,
   "id": "2035a161-2fbb-4fed-980d-56e50cfd7f34",
   "metadata": {},
   "outputs": [
    {
     "name": "stdout",
     "output_type": "stream",
     "text": [
      "[[ 1.         -0.80218454 -0.49361037 -0.24539662 -0.66394359 -0.65382454\n",
      "  -0.41668533 -0.31328172 -0.36032945 -0.35749047 -0.00973256]\n",
      " [-0.80218454  1.          0.72476039  0.37101327  0.74035     0.75860248\n",
      "   0.36436828  0.59118054  0.45414787  0.14600451  0.13011242]\n",
      " [-0.49361037  0.72476039  1.          0.21843329  0.56326804  0.68479519\n",
      "   0.20415382  0.64900701  0.24104683  0.11393313 -0.1439571 ]\n",
      " [-0.24539662  0.37101327  0.21843329  1.          0.34891709  0.31054815\n",
      "   0.2280676   0.32779612  0.55351015  0.32274396  0.0054427 ]\n",
      " [-0.66394359  0.74035     0.56326804  0.34891709  1.          0.53515764\n",
      "   0.2615448   0.57204921  0.41999498  0.46323398 -0.07414896]\n",
      " [-0.65382454  0.75860248  0.68479519  0.31054815  0.53515764  1.\n",
      "   0.18579568  0.63900146  0.27547864  0.08686046 -0.08372486]\n",
      " [-0.41668533  0.36436828  0.20415382  0.2280676   0.2615448   0.18579568\n",
      "   1.          0.08930928  0.70072393  0.20819871 -0.07786057]\n",
      " [-0.31328172  0.59118054  0.64900701  0.32779612  0.57204921  0.63900146\n",
      "   0.08930928  1.          0.34295078  0.05679862 -0.05640727]\n",
      " [-0.36032945  0.45414787  0.24104683  0.55351015  0.41999498  0.27547864\n",
      "   0.70072393  0.34295078  1.          0.09080559  0.00749472]\n",
      " [-0.35749047  0.14600451  0.11393313  0.32274396  0.46323398  0.08686046\n",
      "   0.20819871  0.05679862  0.09080559  1.         -0.27788874]\n",
      " [-0.00973256  0.13011242 -0.1439571   0.0054427  -0.07414896 -0.08372486\n",
      "  -0.07786057 -0.05640727  0.00749472 -0.27788874  1.        ]]\n"
     ]
    }
   ],
   "source": [
    "print(corr_believability_artefact)"
   ]
  },
  {
   "cell_type": "code",
   "execution_count": 75,
   "id": "f08b8794-2da0-4181-9a25-173e78b0170f",
   "metadata": {},
   "outputs": [
    {
     "name": "stdout",
     "output_type": "stream",
     "text": [
      "[[7.46938006e-166 4.15021886e-006 1.66810863e-002 2.59060235e-001\n",
      "  5.51216437e-004 7.15120962e-004 4.79367822e-002 1.45503901e-001\n",
      "  9.12211402e-002 9.39886660e-002 9.64845705e-001]\n",
      " [4.15021886e-006 7.46938006e-166 9.16921629e-005 8.13479741e-002\n",
      "  5.36444037e-005 2.72627436e-005 8.73891351e-002 2.97065503e-003\n",
      "  2.94886011e-002 5.06216111e-001 5.54035698e-001]\n",
      " [1.66810863e-002 9.16921629e-005 0.00000000e+000 3.16677345e-001\n",
      "  5.13195031e-003 3.12380767e-004 3.50107930e-001 8.06832821e-004\n",
      "  2.67865937e-001 6.04720765e-001 5.12261709e-001]\n",
      " [2.59060235e-001 8.13479741e-002 3.16677345e-001 0.00000000e+000\n",
      "  1.02724728e-001 1.49239140e-001 2.95260067e-001 1.26777386e-001\n",
      "  6.14552423e-003 1.33086889e-001 9.80336767e-001]\n",
      " [5.51216437e-004 5.36444037e-005 5.13195031e-003 1.02724728e-001\n",
      "  7.46938006e-166 8.50477706e-003 2.28010986e-001 4.34317295e-003\n",
      "  4.60139357e-002 2.60070866e-002 7.36691151e-001]\n",
      " [7.15120962e-004 2.72627436e-005 3.12380767e-004 1.49239140e-001\n",
      "  8.50477706e-003 7.46938006e-166 3.96003298e-001 1.02997189e-003\n",
      "  2.03279922e-001 6.93519122e-001 7.04089140e-001]\n",
      " [4.79367822e-002 8.73891351e-002 3.50107930e-001 2.95260067e-001\n",
      "  2.28010986e-001 3.96003298e-001 7.46938006e-166 6.85302389e-001\n",
      "  1.96176847e-004 3.40434786e-001 7.23998956e-001]\n",
      " [1.45503901e-001 2.97065503e-003 8.06832821e-004 1.26777386e-001\n",
      "  4.34317295e-003 1.02997189e-003 6.85302389e-001 0.00000000e+000\n",
      "  1.09147709e-001 7.96859548e-001 7.98231103e-001]\n",
      " [9.12211402e-002 2.94886011e-002 2.67865937e-001 6.14552423e-003\n",
      "  4.60139357e-002 2.03279922e-001 1.96176847e-004 1.09147709e-001\n",
      "  0.00000000e+000 6.80298535e-001 9.72925566e-001]\n",
      " [9.39886660e-002 5.06216111e-001 6.04720765e-001 1.33086889e-001\n",
      "  2.60070866e-002 6.93519122e-001 3.40434786e-001 7.96859548e-001\n",
      "  6.80298535e-001 0.00000000e+000 1.99193639e-001]\n",
      " [9.64845705e-001 5.54035698e-001 5.12261709e-001 9.80336767e-001\n",
      "  7.36691151e-001 7.04089140e-001 7.23998956e-001 7.98231103e-001\n",
      "  9.72925566e-001 1.99193639e-001 0.00000000e+000]]\n"
     ]
    }
   ],
   "source": [
    "print(pval_believability_artefact)"
   ]
  },
  {
   "cell_type": "code",
   "execution_count": 76,
   "id": "986e16cf-8a55-4880-b899-2df8f61518dd",
   "metadata": {},
   "outputs": [],
   "source": [
    "corr_believability_artefact, pval_believability_artefact = spearmanr(Highlevel_2_believability, Highlevel_2_Artefact_Quality)"
   ]
  },
  {
   "cell_type": "code",
   "execution_count": 77,
   "id": "dac88f5e-43ab-476d-99cf-17e8581f5001",
   "metadata": {},
   "outputs": [
    {
     "name": "stdout",
     "output_type": "stream",
     "text": [
      "[[ 1.         -0.77458861 -0.35123506  0.24389293 -0.63927533 -0.6106919\n",
      "  -0.23417582  0.06814536  0.21856625  0.06622962  0.04273505]\n",
      " [-0.77458861  1.          0.38974352 -0.04726075  0.45        0.62329004\n",
      "   0.25689444 -0.04802207 -0.07783898 -0.16696044 -0.08181224]\n",
      " [-0.35123506  0.38974352  1.          0.54707341  0.33093607  0.39537852\n",
      "   0.37207747  0.176526    0.43208372 -0.19133523 -0.20840953]\n",
      " [ 0.24389293 -0.04726075  0.54707341  1.         -0.07784123  0.054269\n",
      "   0.20532612  0.00342762  0.38544895 -0.15767068 -0.30395775]\n",
      " [-0.63927533  0.45        0.33093607 -0.07784123  1.          0.52161861\n",
      "   0.02768259 -0.0435549  -0.31784248  0.15746771 -0.39291403]\n",
      " [-0.6106919   0.62329004  0.39537852  0.054269    0.52161861  1.\n",
      "   0.30228035  0.05450201  0.13602187 -0.02554782 -0.10041756]\n",
      " [-0.23417582  0.25689444  0.37207747  0.20532612  0.02768259  0.30228035\n",
      "   1.          0.08930928  0.70072393  0.20819871 -0.07786057]\n",
      " [ 0.06814536 -0.04802207  0.176526    0.00342762 -0.0435549   0.05450201\n",
      "   0.08930928  1.          0.34295078  0.05679862 -0.05640727]\n",
      " [ 0.21856625 -0.07783898  0.43208372  0.38544895 -0.31784248  0.13602187\n",
      "   0.70072393  0.34295078  1.          0.09080559  0.00749472]\n",
      " [ 0.06622962 -0.16696044 -0.19133523 -0.15767068  0.15746771 -0.02554782\n",
      "   0.20819871  0.05679862  0.09080559  1.         -0.27788874]\n",
      " [ 0.04273505 -0.08181224 -0.20840953 -0.30395775 -0.39291403 -0.10041756\n",
      "  -0.07786057 -0.05640727  0.00749472 -0.27788874  1.        ]]\n"
     ]
    }
   ],
   "source": [
    "print(corr_believability_artefact)"
   ]
  },
  {
   "cell_type": "code",
   "execution_count": 78,
   "id": "cdf886ff-f2ce-41ed-90dc-9996beac8355",
   "metadata": {},
   "outputs": [
    {
     "name": "stdout",
     "output_type": "stream",
     "text": [
      "[[0.00000000e+000 1.43388362e-005 1.00305986e-001 2.62083020e-001\n",
      "  1.02322639e-003 1.96746080e-003 2.82159134e-001 7.57361339e-001\n",
      "  3.16375509e-001 7.63991874e-001 8.46482282e-001]\n",
      " [1.43388362e-005 0.00000000e+000 6.60062487e-002 8.30442527e-001\n",
      "  3.11965813e-002 1.48636945e-003 2.36688284e-001 8.27750537e-001\n",
      "  7.24072591e-001 4.46400472e-001 7.10562775e-001]\n",
      " [1.00305986e-001 6.60062487e-002 7.46938006e-166 6.90139667e-003\n",
      "  1.22966344e-001 6.18537171e-002 8.04104018e-002 4.20395754e-001\n",
      "  3.94967193e-002 3.81813373e-001 3.39935008e-001]\n",
      " [2.62083020e-001 8.30442527e-001 6.90139667e-003 0.00000000e+000\n",
      "  7.24064901e-001 8.05735032e-001 3.47287952e-001 9.87616071e-001\n",
      "  6.93112772e-002 4.72444737e-001 1.58522001e-001]\n",
      " [1.02322639e-003 3.11965813e-002 1.22966344e-001 7.24064901e-001\n",
      "  0.00000000e+000 1.06886706e-002 9.00221932e-001 8.43572052e-001\n",
      "  1.39420353e-001 4.73022302e-001 6.36444808e-002]\n",
      " [1.96746080e-003 1.48636945e-003 6.18537171e-002 8.05735032e-001\n",
      "  1.06886706e-002 7.46938006e-166 1.60947913e-001 8.04916484e-001\n",
      "  5.36017552e-001 9.07883326e-001 6.48472912e-001]\n",
      " [2.82159134e-001 2.36688284e-001 8.04104018e-002 3.47287952e-001\n",
      "  9.00221932e-001 1.60947913e-001 7.46938006e-166 6.85302389e-001\n",
      "  1.96176847e-004 3.40434786e-001 7.23998956e-001]\n",
      " [7.57361339e-001 8.27750537e-001 4.20395754e-001 9.87616071e-001\n",
      "  8.43572052e-001 8.04916484e-001 6.85302389e-001 0.00000000e+000\n",
      "  1.09147709e-001 7.96859548e-001 7.98231103e-001]\n",
      " [3.16375509e-001 7.24072591e-001 3.94967193e-002 6.93112772e-002\n",
      "  1.39420353e-001 5.36017552e-001 1.96176847e-004 1.09147709e-001\n",
      "  0.00000000e+000 6.80298535e-001 9.72925566e-001]\n",
      " [7.63991874e-001 4.46400472e-001 3.81813373e-001 4.72444737e-001\n",
      "  4.73022302e-001 9.07883326e-001 3.40434786e-001 7.96859548e-001\n",
      "  6.80298535e-001 0.00000000e+000 1.99193639e-001]\n",
      " [8.46482282e-001 7.10562775e-001 3.39935008e-001 1.58522001e-001\n",
      "  6.36444808e-002 6.48472912e-001 7.23998956e-001 7.98231103e-001\n",
      "  9.72925566e-001 1.99193639e-001 0.00000000e+000]]\n"
     ]
    }
   ],
   "source": [
    "print(pval_believability_artefact)"
   ]
  },
  {
   "cell_type": "code",
   "execution_count": 79,
   "id": "c7daebf7-a39c-4325-af8d-056fb5032be5",
   "metadata": {},
   "outputs": [],
   "source": [
    "corr_co_creativity, pval_co_creativity = spearmanr(correlation_2, baseline_1_co_creativity)"
   ]
  },
  {
   "cell_type": "code",
   "execution_count": 81,
   "id": "86315f5e-915c-4046-a896-18739e15318b",
   "metadata": {},
   "outputs": [
    {
     "name": "stdout",
     "output_type": "stream",
     "text": [
      "[[ 1.          0.26309659  0.08168692  0.14602209  0.0650026  -0.16641316]\n",
      " [ 0.26309659  1.          0.12122152  0.47578263  0.70461932  0.41327232]\n",
      " [ 0.08168692  0.12122152  1.          0.42854876  0.30954895 -0.00511185]\n",
      " [ 0.14602209  0.47578263  0.42854876  1.          0.60910899  0.08685205]\n",
      " [ 0.0650026   0.70461932  0.30954895  0.60910899  1.          0.3906342 ]\n",
      " [-0.16641316  0.41327232 -0.00511185  0.08685205  0.3906342   1.        ]]\n"
     ]
    }
   ],
   "source": [
    "print(corr_co_creativity)\n"
   ]
  },
  {
   "cell_type": "code",
   "execution_count": 82,
   "id": "a44ba043-3d04-4a88-8953-b7f7b5ebfe54",
   "metadata": {},
   "outputs": [
    {
     "name": "stdout",
     "output_type": "stream",
     "text": [
      "[[0.00000000e+000 2.25162812e-001 7.10987618e-001 5.06164358e-001\n",
      "  7.68247186e-001 4.47913458e-001]\n",
      " [2.25162812e-001 7.46938006e-166 5.81649879e-001 2.17479288e-002\n",
      "  1.74295105e-004 4.99845793e-002]\n",
      " [7.10987618e-001 5.81649879e-001 7.46938006e-166 4.13223258e-002\n",
      "  1.50621241e-001 9.81531837e-001]\n",
      " [5.06164358e-001 2.17479288e-002 4.13223258e-002 0.00000000e+000\n",
      "  2.03634295e-003 6.93547424e-001]\n",
      " [7.68247186e-001 1.74295105e-004 1.50621241e-001 2.03634295e-003\n",
      "  0.00000000e+000 6.53361173e-002]\n",
      " [4.47913458e-001 4.99845793e-002 9.81531837e-001 6.93547424e-001\n",
      "  6.53361173e-002 0.00000000e+000]]\n"
     ]
    }
   ],
   "source": [
    "print(pval_co_creativity)"
   ]
  },
  {
   "cell_type": "code",
   "execution_count": 83,
   "id": "b816878b-e708-4631-bc2f-e594ef466dfd",
   "metadata": {},
   "outputs": [],
   "source": [
    "corr_co_creativity_highlevel, pval_co_creativity_highlevel = spearmanr(correlation_2, highlevel_1_co_creativity)"
   ]
  },
  {
   "cell_type": "code",
   "execution_count": 84,
   "id": "c9459afa-0b73-4248-b6bf-05e927cd2ead",
   "metadata": {},
   "outputs": [
    {
     "name": "stdout",
     "output_type": "stream",
     "text": [
      "[[ 1.          0.16954853  0.15419353  0.20912182  0.18827063 -0.02036023]\n",
      " [ 0.16954853  1.          0.3316542   0.54294137  0.53773316  0.4608662 ]\n",
      " [ 0.15419353  0.3316542   1.          0.50171691  0.40796618  0.37303582]\n",
      " [ 0.20912182  0.54294137  0.50171691  1.          0.66272054  0.64752665]\n",
      " [ 0.18827063  0.53773316  0.40796618  0.66272054  1.          0.81342121]\n",
      " [-0.02036023  0.4608662   0.37303582  0.64752665  0.81342121  1.        ]]\n"
     ]
    }
   ],
   "source": [
    "print(corr_co_creativity_highlevel)"
   ]
  },
  {
   "cell_type": "code",
   "execution_count": 85,
   "id": "3b0026f9-bbc5-4652-8ce1-9265d8d1c13c",
   "metadata": {},
   "outputs": [
    {
     "name": "stdout",
     "output_type": "stream",
     "text": [
      "[[0.00000000e+000 4.39282202e-001 4.82388378e-001 3.38249656e-001\n",
      "  3.89627462e-001 9.26532680e-001]\n",
      " [4.39282202e-001 0.00000000e+000 1.22106501e-001 7.42617863e-003\n",
      "  8.13440560e-003 2.68809057e-002]\n",
      " [4.82388378e-001 1.22106501e-001 7.46938006e-166 1.47189030e-002\n",
      "  5.33023261e-002 7.95730651e-002]\n",
      " [3.38249656e-001 7.42617863e-003 1.47189030e-002 0.00000000e+000\n",
      "  5.69124625e-004 8.36966557e-004]\n",
      " [3.89627462e-001 8.13440560e-003 5.33023261e-002 5.69124625e-004\n",
      "  7.46938006e-166 2.36824410e-006]\n",
      " [9.26532680e-001 2.68809057e-002 7.95730651e-002 8.36966557e-004\n",
      "  2.36824410e-006 0.00000000e+000]]\n"
     ]
    }
   ],
   "source": [
    "print(pval_co_creativity_highlevel)"
   ]
  },
  {
   "cell_type": "code",
   "execution_count": null,
   "id": "7a17f8c1-ef5f-4edc-b576-720106afda75",
   "metadata": {},
   "outputs": [],
   "source": []
  }
 ],
 "metadata": {
  "kernelspec": {
   "display_name": "Python 3 (ipykernel)",
   "language": "python",
   "name": "python3"
  },
  "language_info": {
   "codemirror_mode": {
    "name": "ipython",
    "version": 3
   },
   "file_extension": ".py",
   "mimetype": "text/x-python",
   "name": "python",
   "nbconvert_exporter": "python",
   "pygments_lexer": "ipython3",
   "version": "3.11.3"
  }
 },
 "nbformat": 4,
 "nbformat_minor": 5
}
